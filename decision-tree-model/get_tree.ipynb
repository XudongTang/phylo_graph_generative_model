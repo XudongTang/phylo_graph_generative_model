{
 "cells": [
  {
   "cell_type": "code",
   "execution_count": 14,
   "id": "23dc577f-f6f6-4f3a-bc57-0d5471690a48",
   "metadata": {},
   "outputs": [],
   "source": [
    "import ete3\n",
    "from ete3 import Tree\n",
    "import numpy as np\n",
    "import random\n",
    "import json"
   ]
  },
  {
   "cell_type": "code",
   "execution_count": 11,
   "id": "fef331f1-d44f-44a6-b666-0195ee9b1308",
   "metadata": {},
   "outputs": [
    {
     "name": "stdout",
     "output_type": "stream",
     "text": [
      "------------------------------------------------------------------------\n",
      "File proprocessing for 5-taxon trees\n",
      "------------------------------------------------------------------------\n",
      "Executing get_tree.py following model_param.json\n",
      "------------------------------------------------------------------------\n",
      "Loading Sequence Data in sequences12062021.in\n",
      "Loading Label Data in labels12062021.in\n",
      "Loading Tree Data in trees12062021.in\n"
     ]
    },
    {
     "data": {
      "text/plain": [
       "'(1:0.699176245335339,(2:0.3402578285913327,((4:0.7774982160898161,5:0.729350459883324):0.5129091418912692,3:0.032494125943784744):0.3584708485721173):0.11733277547993536);\\n'"
      ]
     },
     "execution_count": 11,
     "metadata": {},
     "output_type": "execute_result"
    }
   ],
   "source": [
    "# get name of the script\n",
    "nameScript = \"get_tree.py\"\n",
    "# get json file name of the script\n",
    "nameJson = \"model_param.json\"\n",
    "\n",
    "print(\"------------------------------------------------------------------------\")\n",
    "print(\"File proprocessing for 5-taxon trees\")\n",
    "print(\"------------------------------------------------------------------------\")\n",
    "print(\"Executing \" + nameScript + \" following \" + nameJson, flush = True)\n",
    "\n",
    "# opening Json file \n",
    "jsonFile = open(nameJson) \n",
    "dataJson = json.load(jsonFile)\n",
    "\n",
    "data_root = dataJson[\"dataRoot\"]         # data folder\n",
    "model_root = dataJson[\"modelRoot\"]       # folder to save the data\n",
    "\n",
    "label_files = dataJson[\"labelFile\"]      # file with labels\n",
    "sequence_files = dataJson[\"matFile\"]     # file with sequences\n",
    "tree_files = dataJson[\"treeFile\"]        # file with tree structure\n",
    "\n",
    "if \"summaryFile\" in dataJson:\n",
    "    summary_file = dataJson[\"summaryFile\"]\n",
    "else :\n",
    "    summary_file = \"summary_file.txt\"\n",
    "\n",
    "\n",
    "print(\"------------------------------------------------------------------------\") \n",
    "print(\"Loading Sequence Data in \" + sequence_files, flush = True)\n",
    "print(\"Loading Label Data in \" + label_files, flush = True)\n",
    "print(\"Loading Tree Data in \" + tree_files, flush = True)\n",
    "\n",
    "# we read the labels as list of strings\n",
    "with open(data_root+label_files, 'r') as f:\n",
    "    label_char = f.readlines()\n",
    "\n",
    "# we read the sequence as a list of strings\n",
    "with open(data_root+sequence_files, 'r') as f:\n",
    "    seq_string = f.readlines()\n",
    "\n",
    "with open(data_root+tree_files, 'r') as f:\n",
    "    tree_newick = f.readlines()\n",
    "\n",
    "tree_newick[1]"
   ]
  },
  {
   "cell_type": "code",
   "execution_count": 20,
   "id": "8ea8a192-9dcf-4f7b-8dbc-95b25be9fe6d",
   "metadata": {},
   "outputs": [
    {
     "name": "stdout",
     "output_type": "stream",
     "text": [
      "\n",
      "         /-1\n",
      "      /-|\n",
      "     |   \\-5\n",
      "   /-|\n",
      "  |  |   /-2\n",
      "--|   \\-|\n",
      "  |      \\-3\n",
      "  |\n",
      "   \\-4\n"
     ]
    }
   ],
   "source": [
    "t = Tree(tree_newick[0])\n",
    "print(t)"
   ]
  },
  {
   "cell_type": "code",
   "execution_count": 23,
   "id": "e20db0da-770c-4d45-9a80-90058fb2c762",
   "metadata": {},
   "outputs": [
    {
     "name": "stdout",
     "output_type": "stream",
     "text": [
      "1\n",
      "5\n",
      "\n",
      "2\n",
      "3\n",
      "\n",
      "\n",
      "4\n",
      "\n"
     ]
    }
   ],
   "source": [
    "for node in t.traverse(\"postorder\"):\n",
    "  # Do some analysis on node\n",
    "  print(node.name)"
   ]
  }
 ],
 "metadata": {
  "kernelspec": {
   "display_name": "Python 3 (ipykernel)",
   "language": "python",
   "name": "python3"
  },
  "language_info": {
   "codemirror_mode": {
    "name": "ipython",
    "version": 3
   },
   "file_extension": ".py",
   "mimetype": "text/x-python",
   "name": "python",
   "nbconvert_exporter": "python",
   "pygments_lexer": "ipython3",
   "version": "3.10.12"
  }
 },
 "nbformat": 4,
 "nbformat_minor": 5
}
